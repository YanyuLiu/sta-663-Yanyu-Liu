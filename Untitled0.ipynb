{
 "metadata": {
  "name": "",
  "signature": "sha256:1102978393d8ee7433be9a207d96733d8dc382747db112376b041a25d602ebfa"
 },
 "nbformat": 3,
 "nbformat_minor": 0,
 "worksheets": [
  {
   "cells": [
    {
     "cell_type": "code",
     "collapsed": false,
     "input": [
      "!git add ."
     ],
     "language": "python",
     "metadata": {},
     "outputs": [],
     "prompt_number": 1
    },
    {
     "cell_type": "code",
     "collapsed": false,
     "input": [
      "!git commit -m \"lab01 and lecture 01\""
     ],
     "language": "python",
     "metadata": {},
     "outputs": [
      {
       "output_type": "stream",
       "stream": "stdout",
       "text": [
        "On branch master\r\n",
        "Your branch is ahead of 'origin/master' by 1 commit.\r\n",
        "  (use \"git push\" to publish your local commits)\r\n",
        "\r\n",
        "Changes not staged for commit:\r\n",
        "\t\u001b[31mmodified:   IntroductionToPython.ipynb\u001b[m\r\n",
        "\t\u001b[31mmodified:   Untitled0.ipynb\u001b[m\r\n",
        "\r\n",
        "Untracked files:\r\n",
        "\t\u001b[31m.ipynb_checkpoints/\u001b[m\r\n",
        "\r\n",
        "no changes added to commit\r\n"
       ]
      }
     ],
     "prompt_number": 5
    },
    {
     "cell_type": "code",
     "collapsed": false,
     "input": [
      "!git config --global user.name \"Yanyu Liu\"\n",
      "!git config --global user.email yl304@duke.edu"
     ],
     "language": "python",
     "metadata": {},
     "outputs": [],
     "prompt_number": 4
    },
    {
     "cell_type": "code",
     "collapsed": false,
     "input": [],
     "language": "python",
     "metadata": {},
     "outputs": []
    }
   ],
   "metadata": {}
  }
 ]
}