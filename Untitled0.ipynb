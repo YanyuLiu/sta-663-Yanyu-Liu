{
 "metadata": {
  "name": "",
  "signature": "sha256:447fdcf9fd99959824f6f604cd4c31846551fdffea9aead4513ade1cd06904ec"
 },
 "nbformat": 3,
 "nbformat_minor": 0,
 "worksheets": []
}