{
 "metadata": {
  "name": "",
  "signature": "sha256:74e98bcfe486bea1e55207df3fc76bcdedf74b98197e70e8aadcdbe71cb10f11"
 },
 "nbformat": 3,
 "nbformat_minor": 0,
 "worksheets": [
  {
   "cells": [
    {
     "cell_type": "code",
     "collapsed": false,
     "input": [
      "!git add ."
     ],
     "language": "python",
     "metadata": {},
     "outputs": [],
     "prompt_number": 1
    },
    {
     "cell_type": "code",
     "collapsed": false,
     "input": [
      "!git commit -m \"lab01 and lecture 01\""
     ],
     "language": "python",
     "metadata": {},
     "outputs": [
      {
       "output_type": "stream",
       "stream": "stdout",
       "text": [
        "[master c8c4b3f] lab01 and lecture 01\r\n",
        " 1 file changed, 17 insertions(+), 7 deletions(-)\r\n"
       ]
      }
     ],
     "prompt_number": 2
    },
    {
     "cell_type": "code",
     "collapsed": false,
     "input": [
      "!git push"
     ],
     "language": "python",
     "metadata": {},
     "outputs": [
      {
       "output_type": "stream",
       "stream": "stdout",
       "text": [
        "warning: push.default is unset; its implicit value is changing in\r\n",
        "Git 2.0 from 'matching' to 'simple'. To squelch this message\r\n",
        "and maintain the current behavior after the default changes, use:\r\n",
        "\r\n",
        "  git config --global push.default matching\r\n",
        "\r\n",
        "To squelch this message and adopt the new behavior now, use:\r\n",
        "\r\n",
        "  git config --global push.default simple\r\n",
        "\r\n",
        "When push.default is set to 'matching', git will push local branches\r\n",
        "to the remote branches that already exist with the same name.\r\n",
        "\r\n",
        "In Git 2.0, Git will default to the more conservative 'simple'\r\n",
        "behavior, which only pushes the current branch to the corresponding\r\n",
        "remote branch that 'git pull' uses to update the current branch.\r\n",
        "\r\n",
        "See 'git help config' and search for 'push.default' for further information.\r\n",
        "(the 'simple' mode was introduced in Git 1.7.11. Use the similar mode\r\n",
        "'current' instead of 'simple' if you sometimes use older versions of Git)\r\n",
        "\r\n"
       ]
      },
      {
       "output_type": "stream",
       "stream": "stdout",
       "text": [
        "Username for 'https://github.com': "
       ]
      }
     ]
    },
    {
     "cell_type": "code",
     "collapsed": false,
     "input": [
      "git config --global push.default matching"
     ],
     "language": "python",
     "metadata": {},
     "outputs": []
    },
    {
     "cell_type": "code",
     "collapsed": false,
     "input": [
      "!git config --global user.name \"YanyuLiu\"\n",
      "!git config --global user.email \"yl304@duke.edu\""
     ],
     "language": "python",
     "metadata": {},
     "outputs": [],
     "prompt_number": 11
    },
    {
     "cell_type": "code",
     "collapsed": false,
     "input": [
      "YanyuLiu"
     ],
     "language": "python",
     "metadata": {},
     "outputs": []
    },
    {
     "cell_type": "code",
     "collapsed": false,
     "input": [],
     "language": "python",
     "metadata": {},
     "outputs": []
    }
   ],
   "metadata": {}
  }
 ]
}